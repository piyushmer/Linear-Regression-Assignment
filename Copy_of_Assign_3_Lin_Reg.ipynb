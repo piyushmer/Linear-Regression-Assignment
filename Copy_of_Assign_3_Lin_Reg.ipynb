{
  "cells": [
    {
      "cell_type": "markdown",
      "source": [
        "# Linear Regression"
      ],
      "metadata": {
        "id": "LvkxJLK872xG"
      }
    },
    {
      "cell_type": "markdown",
      "source": [],
      "metadata": {
        "id": "uJEzeBaYrp3a"
      }
    },
    {
      "cell_type": "code",
      "execution_count": null,
      "metadata": {
        "id": "ylSYM7srAaTK"
      },
      "outputs": [],
      "source": [
        "# Import the required libraries\n",
        "\n",
        "import pandas as pd\n",
        "import numpy as np\n",
        "import matplotlib.pyplot as plt\n",
        "\n",
        "%matplotlib inline"
      ]
    },
    {
      "cell_type": "markdown",
      "metadata": {
        "id": "1d8TzpYrAaTK"
      },
      "source": [
        "## Data Preprocessing"
      ]
    },
    {
      "cell_type": "markdown",
      "metadata": {
        "id": "Ko0DUQMIAaTL"
      },
      "source": [
        "### **Exploring the dataset**"
      ]
    },
    {
      "cell_type": "markdown",
      "metadata": {
        "id": "PiIvXaDLAaTL"
      },
      "source": [
        "Let's start with loading the training data from the csv into a pandas dataframe"
      ]
    },
    {
      "cell_type": "markdown",
      "source": [
        "\n",
        "\n",
        "Load the datasets from GitHub. Train dataset has already been loaded for you in df below. To get test dataset use the commented code."
      ],
      "metadata": {
        "id": "CeVVY-uHrsqR"
      }
    },
    {
      "cell_type": "code",
      "execution_count": null,
      "metadata": {
        "id": "dj_ZCCgTAaTL",
        "colab": {
          "base_uri": "https://localhost:8080/"
        },
        "outputId": "51bf377c-b8c6-4588-8819-d91a8c461672"
      },
      "outputs": [
        {
          "output_type": "stream",
          "name": "stdout",
          "text": [
            "First few rows of the dataset:\n",
            "   LotArea  TotalBsmtSF  GrLivArea  GarageArea  PoolArea  OverallCond  \\\n",
            "0    11553         1051       1159         336         0            5   \n",
            "1     8400         1052       1052         288         0            5   \n",
            "2     8960         1008       1028         360         0            6   \n",
            "3    11100            0        930         308         0            7   \n",
            "4    15593         1304       2287         667         0            4   \n",
            "\n",
            "  Utilities  SalePrice  \n",
            "0    AllPub     158000  \n",
            "1    AllPub     138500  \n",
            "2    AllPub     115000  \n",
            "3    AllPub      84900  \n",
            "4    AllPub     225000  \n",
            "\n",
            "Feature statistics:\n",
            "Feature 'LotArea':\n",
            "  Range: 213945\n",
            "  Mean: 10622.104261796043\n",
            "\n",
            "Feature 'TotalBsmtSF':\n",
            "  Range: 6110\n",
            "  Mean: 1058.3112633181127\n",
            "\n",
            "Feature 'GrLivArea':\n",
            "  Range: 5308\n",
            "  Mean: 1512.9003044140031\n",
            "\n",
            "Feature 'GarageArea':\n",
            "  Range: 1418\n",
            "  Mean: 473.48021308980213\n",
            "\n",
            "Feature 'PoolArea':\n",
            "  Range: 738\n",
            "  Mean: 2.6430745814307457\n",
            "\n",
            "Feature 'OverallCond':\n",
            "  Range: 8\n",
            "  Mean: 5.582191780821918\n",
            "\n",
            "Feature 'SalePrice':\n",
            "  Range: 720100\n",
            "  Mean: 180795.50456621006\n",
            "\n"
          ]
        }
      ],
      "source": [
        "import pandas as pd # Import pandas before using it\n",
        "\n",
        "df = pd.read_csv('https://raw.githubusercontent.com/cronan03/DevSoc_AI-ML/main/train_processed_splitted.csv')\n",
        "\n",
        "\n",
        "# 11553,1051,1159,336,0,5,AllPub,158000\n",
        "# 8400,1052,1052,288,0,5,AllPub,138500\n",
        "print(\"First few rows of the dataset:\")\n",
        "print(df.head())\n",
        "\n",
        "#Select only numerical columns\n",
        "numerical_df = df.select_dtypes(include=['number'])\n",
        "\n",
        "# Compute the range (max - min) for each numerical feature\n",
        "feature_ranges = numerical_df.max() - numerical_df.min()\n",
        "\n",
        "# Compute the mean for each numerical feature\n",
        "feature_means = numerical_df.mean()\n",
        "\n",
        "# Print the results\n",
        "print(\"\\nFeature statistics:\")\n",
        "for feature in numerical_df.columns: # Iterate over numerical columns only\n",
        "    print(f\"Feature '{feature}':\")\n",
        "    print(f\"  Range: {feature_ranges[feature]}\")\n",
        "    print(f\"  Mean: {feature_means[feature]}\")\n",
        "    print()\n"
      ]
    },
    {
      "cell_type": "markdown",
      "metadata": {
        "id": "l5-4Ujl1AaTL"
      },
      "source": [
        "Let's see what the first 5 rows of this dataset looks like"
      ]
    },
    {
      "cell_type": "code",
      "execution_count": null,
      "metadata": {
        "id": "-ieOW_eQAaTL",
        "outputId": "51d076d4-a8b5-435c-d823-1e69cd4db3b0",
        "colab": {
          "base_uri": "https://localhost:8080/",
          "height": 226
        }
      },
      "outputs": [
        {
          "output_type": "execute_result",
          "data": {
            "text/plain": [
              "   LotArea  TotalBsmtSF  GrLivArea  GarageArea  PoolArea  OverallCond  \\\n",
              "0    11553         1051       1159         336         0            5   \n",
              "1     8400         1052       1052         288         0            5   \n",
              "2     8960         1008       1028         360         0            6   \n",
              "3    11100            0        930         308         0            7   \n",
              "4    15593         1304       2287         667         0            4   \n",
              "\n",
              "  Utilities  SalePrice  \n",
              "0    AllPub     158000  \n",
              "1    AllPub     138500  \n",
              "2    AllPub     115000  \n",
              "3    AllPub      84900  \n",
              "4    AllPub     225000  "
            ],
            "text/html": [
              "\n",
              "  <div id=\"df-2aa17580-67af-40f0-9b5a-eac4b2626775\" class=\"colab-df-container\">\n",
              "    <div>\n",
              "<style scoped>\n",
              "    .dataframe tbody tr th:only-of-type {\n",
              "        vertical-align: middle;\n",
              "    }\n",
              "\n",
              "    .dataframe tbody tr th {\n",
              "        vertical-align: top;\n",
              "    }\n",
              "\n",
              "    .dataframe thead th {\n",
              "        text-align: right;\n",
              "    }\n",
              "</style>\n",
              "<table border=\"1\" class=\"dataframe\">\n",
              "  <thead>\n",
              "    <tr style=\"text-align: right;\">\n",
              "      <th></th>\n",
              "      <th>LotArea</th>\n",
              "      <th>TotalBsmtSF</th>\n",
              "      <th>GrLivArea</th>\n",
              "      <th>GarageArea</th>\n",
              "      <th>PoolArea</th>\n",
              "      <th>OverallCond</th>\n",
              "      <th>Utilities</th>\n",
              "      <th>SalePrice</th>\n",
              "    </tr>\n",
              "  </thead>\n",
              "  <tbody>\n",
              "    <tr>\n",
              "      <th>0</th>\n",
              "      <td>11553</td>\n",
              "      <td>1051</td>\n",
              "      <td>1159</td>\n",
              "      <td>336</td>\n",
              "      <td>0</td>\n",
              "      <td>5</td>\n",
              "      <td>AllPub</td>\n",
              "      <td>158000</td>\n",
              "    </tr>\n",
              "    <tr>\n",
              "      <th>1</th>\n",
              "      <td>8400</td>\n",
              "      <td>1052</td>\n",
              "      <td>1052</td>\n",
              "      <td>288</td>\n",
              "      <td>0</td>\n",
              "      <td>5</td>\n",
              "      <td>AllPub</td>\n",
              "      <td>138500</td>\n",
              "    </tr>\n",
              "    <tr>\n",
              "      <th>2</th>\n",
              "      <td>8960</td>\n",
              "      <td>1008</td>\n",
              "      <td>1028</td>\n",
              "      <td>360</td>\n",
              "      <td>0</td>\n",
              "      <td>6</td>\n",
              "      <td>AllPub</td>\n",
              "      <td>115000</td>\n",
              "    </tr>\n",
              "    <tr>\n",
              "      <th>3</th>\n",
              "      <td>11100</td>\n",
              "      <td>0</td>\n",
              "      <td>930</td>\n",
              "      <td>308</td>\n",
              "      <td>0</td>\n",
              "      <td>7</td>\n",
              "      <td>AllPub</td>\n",
              "      <td>84900</td>\n",
              "    </tr>\n",
              "    <tr>\n",
              "      <th>4</th>\n",
              "      <td>15593</td>\n",
              "      <td>1304</td>\n",
              "      <td>2287</td>\n",
              "      <td>667</td>\n",
              "      <td>0</td>\n",
              "      <td>4</td>\n",
              "      <td>AllPub</td>\n",
              "      <td>225000</td>\n",
              "    </tr>\n",
              "  </tbody>\n",
              "</table>\n",
              "</div>\n",
              "    <div class=\"colab-df-buttons\">\n",
              "\n",
              "  <div class=\"colab-df-container\">\n",
              "    <button class=\"colab-df-convert\" onclick=\"convertToInteractive('df-2aa17580-67af-40f0-9b5a-eac4b2626775')\"\n",
              "            title=\"Convert this dataframe to an interactive table.\"\n",
              "            style=\"display:none;\">\n",
              "\n",
              "  <svg xmlns=\"http://www.w3.org/2000/svg\" height=\"24px\" viewBox=\"0 -960 960 960\">\n",
              "    <path d=\"M120-120v-720h720v720H120Zm60-500h600v-160H180v160Zm220 220h160v-160H400v160Zm0 220h160v-160H400v160ZM180-400h160v-160H180v160Zm440 0h160v-160H620v160ZM180-180h160v-160H180v160Zm440 0h160v-160H620v160Z\"/>\n",
              "  </svg>\n",
              "    </button>\n",
              "\n",
              "  <style>\n",
              "    .colab-df-container {\n",
              "      display:flex;\n",
              "      gap: 12px;\n",
              "    }\n",
              "\n",
              "    .colab-df-convert {\n",
              "      background-color: #E8F0FE;\n",
              "      border: none;\n",
              "      border-radius: 50%;\n",
              "      cursor: pointer;\n",
              "      display: none;\n",
              "      fill: #1967D2;\n",
              "      height: 32px;\n",
              "      padding: 0 0 0 0;\n",
              "      width: 32px;\n",
              "    }\n",
              "\n",
              "    .colab-df-convert:hover {\n",
              "      background-color: #E2EBFA;\n",
              "      box-shadow: 0px 1px 2px rgba(60, 64, 67, 0.3), 0px 1px 3px 1px rgba(60, 64, 67, 0.15);\n",
              "      fill: #174EA6;\n",
              "    }\n",
              "\n",
              "    .colab-df-buttons div {\n",
              "      margin-bottom: 4px;\n",
              "    }\n",
              "\n",
              "    [theme=dark] .colab-df-convert {\n",
              "      background-color: #3B4455;\n",
              "      fill: #D2E3FC;\n",
              "    }\n",
              "\n",
              "    [theme=dark] .colab-df-convert:hover {\n",
              "      background-color: #434B5C;\n",
              "      box-shadow: 0px 1px 3px 1px rgba(0, 0, 0, 0.15);\n",
              "      filter: drop-shadow(0px 1px 2px rgba(0, 0, 0, 0.3));\n",
              "      fill: #FFFFFF;\n",
              "    }\n",
              "  </style>\n",
              "\n",
              "    <script>\n",
              "      const buttonEl =\n",
              "        document.querySelector('#df-2aa17580-67af-40f0-9b5a-eac4b2626775 button.colab-df-convert');\n",
              "      buttonEl.style.display =\n",
              "        google.colab.kernel.accessAllowed ? 'block' : 'none';\n",
              "\n",
              "      async function convertToInteractive(key) {\n",
              "        const element = document.querySelector('#df-2aa17580-67af-40f0-9b5a-eac4b2626775');\n",
              "        const dataTable =\n",
              "          await google.colab.kernel.invokeFunction('convertToInteractive',\n",
              "                                                    [key], {});\n",
              "        if (!dataTable) return;\n",
              "\n",
              "        const docLinkHtml = 'Like what you see? Visit the ' +\n",
              "          '<a target=\"_blank\" href=https://colab.research.google.com/notebooks/data_table.ipynb>data table notebook</a>'\n",
              "          + ' to learn more about interactive tables.';\n",
              "        element.innerHTML = '';\n",
              "        dataTable['output_type'] = 'display_data';\n",
              "        await google.colab.output.renderOutput(dataTable, element);\n",
              "        const docLink = document.createElement('div');\n",
              "        docLink.innerHTML = docLinkHtml;\n",
              "        element.appendChild(docLink);\n",
              "      }\n",
              "    </script>\n",
              "  </div>\n",
              "\n",
              "\n",
              "<div id=\"df-8ca058f6-9eab-4875-b074-2e6c30f250dd\">\n",
              "  <button class=\"colab-df-quickchart\" onclick=\"quickchart('df-8ca058f6-9eab-4875-b074-2e6c30f250dd')\"\n",
              "            title=\"Suggest charts\"\n",
              "            style=\"display:none;\">\n",
              "\n",
              "<svg xmlns=\"http://www.w3.org/2000/svg\" height=\"24px\"viewBox=\"0 0 24 24\"\n",
              "     width=\"24px\">\n",
              "    <g>\n",
              "        <path d=\"M19 3H5c-1.1 0-2 .9-2 2v14c0 1.1.9 2 2 2h14c1.1 0 2-.9 2-2V5c0-1.1-.9-2-2-2zM9 17H7v-7h2v7zm4 0h-2V7h2v10zm4 0h-2v-4h2v4z\"/>\n",
              "    </g>\n",
              "</svg>\n",
              "  </button>\n",
              "\n",
              "<style>\n",
              "  .colab-df-quickchart {\n",
              "      --bg-color: #E8F0FE;\n",
              "      --fill-color: #1967D2;\n",
              "      --hover-bg-color: #E2EBFA;\n",
              "      --hover-fill-color: #174EA6;\n",
              "      --disabled-fill-color: #AAA;\n",
              "      --disabled-bg-color: #DDD;\n",
              "  }\n",
              "\n",
              "  [theme=dark] .colab-df-quickchart {\n",
              "      --bg-color: #3B4455;\n",
              "      --fill-color: #D2E3FC;\n",
              "      --hover-bg-color: #434B5C;\n",
              "      --hover-fill-color: #FFFFFF;\n",
              "      --disabled-bg-color: #3B4455;\n",
              "      --disabled-fill-color: #666;\n",
              "  }\n",
              "\n",
              "  .colab-df-quickchart {\n",
              "    background-color: var(--bg-color);\n",
              "    border: none;\n",
              "    border-radius: 50%;\n",
              "    cursor: pointer;\n",
              "    display: none;\n",
              "    fill: var(--fill-color);\n",
              "    height: 32px;\n",
              "    padding: 0;\n",
              "    width: 32px;\n",
              "  }\n",
              "\n",
              "  .colab-df-quickchart:hover {\n",
              "    background-color: var(--hover-bg-color);\n",
              "    box-shadow: 0 1px 2px rgba(60, 64, 67, 0.3), 0 1px 3px 1px rgba(60, 64, 67, 0.15);\n",
              "    fill: var(--button-hover-fill-color);\n",
              "  }\n",
              "\n",
              "  .colab-df-quickchart-complete:disabled,\n",
              "  .colab-df-quickchart-complete:disabled:hover {\n",
              "    background-color: var(--disabled-bg-color);\n",
              "    fill: var(--disabled-fill-color);\n",
              "    box-shadow: none;\n",
              "  }\n",
              "\n",
              "  .colab-df-spinner {\n",
              "    border: 2px solid var(--fill-color);\n",
              "    border-color: transparent;\n",
              "    border-bottom-color: var(--fill-color);\n",
              "    animation:\n",
              "      spin 1s steps(1) infinite;\n",
              "  }\n",
              "\n",
              "  @keyframes spin {\n",
              "    0% {\n",
              "      border-color: transparent;\n",
              "      border-bottom-color: var(--fill-color);\n",
              "      border-left-color: var(--fill-color);\n",
              "    }\n",
              "    20% {\n",
              "      border-color: transparent;\n",
              "      border-left-color: var(--fill-color);\n",
              "      border-top-color: var(--fill-color);\n",
              "    }\n",
              "    30% {\n",
              "      border-color: transparent;\n",
              "      border-left-color: var(--fill-color);\n",
              "      border-top-color: var(--fill-color);\n",
              "      border-right-color: var(--fill-color);\n",
              "    }\n",
              "    40% {\n",
              "      border-color: transparent;\n",
              "      border-right-color: var(--fill-color);\n",
              "      border-top-color: var(--fill-color);\n",
              "    }\n",
              "    60% {\n",
              "      border-color: transparent;\n",
              "      border-right-color: var(--fill-color);\n",
              "    }\n",
              "    80% {\n",
              "      border-color: transparent;\n",
              "      border-right-color: var(--fill-color);\n",
              "      border-bottom-color: var(--fill-color);\n",
              "    }\n",
              "    90% {\n",
              "      border-color: transparent;\n",
              "      border-bottom-color: var(--fill-color);\n",
              "    }\n",
              "  }\n",
              "</style>\n",
              "\n",
              "  <script>\n",
              "    async function quickchart(key) {\n",
              "      const quickchartButtonEl =\n",
              "        document.querySelector('#' + key + ' button');\n",
              "      quickchartButtonEl.disabled = true;  // To prevent multiple clicks.\n",
              "      quickchartButtonEl.classList.add('colab-df-spinner');\n",
              "      try {\n",
              "        const charts = await google.colab.kernel.invokeFunction(\n",
              "            'suggestCharts', [key], {});\n",
              "      } catch (error) {\n",
              "        console.error('Error during call to suggestCharts:', error);\n",
              "      }\n",
              "      quickchartButtonEl.classList.remove('colab-df-spinner');\n",
              "      quickchartButtonEl.classList.add('colab-df-quickchart-complete');\n",
              "    }\n",
              "    (() => {\n",
              "      let quickchartButtonEl =\n",
              "        document.querySelector('#df-8ca058f6-9eab-4875-b074-2e6c30f250dd button');\n",
              "      quickchartButtonEl.style.display =\n",
              "        google.colab.kernel.accessAllowed ? 'block' : 'none';\n",
              "    })();\n",
              "  </script>\n",
              "</div>\n",
              "\n",
              "    </div>\n",
              "  </div>\n"
            ],
            "application/vnd.google.colaboratory.intrinsic+json": {
              "type": "dataframe",
              "variable_name": "df",
              "summary": "{\n  \"name\": \"df\",\n  \"rows\": 1314,\n  \"fields\": [\n    {\n      \"column\": \"LotArea\",\n      \"properties\": {\n        \"dtype\": \"number\",\n        \"std\": 10430,\n        \"min\": 1300,\n        \"max\": 215245,\n        \"num_unique_values\": 977,\n        \"samples\": [\n          7851,\n          10846,\n          13346\n        ],\n        \"semantic_type\": \"\",\n        \"description\": \"\"\n      }\n    },\n    {\n      \"column\": \"TotalBsmtSF\",\n      \"properties\": {\n        \"dtype\": \"number\",\n        \"std\": 435,\n        \"min\": 0,\n        \"max\": 6110,\n        \"num_unique_values\": 674,\n        \"samples\": [\n          1277,\n          1500,\n          1340\n        ],\n        \"semantic_type\": \"\",\n        \"description\": \"\"\n      }\n    },\n    {\n      \"column\": \"GrLivArea\",\n      \"properties\": {\n        \"dtype\": \"number\",\n        \"std\": 524,\n        \"min\": 334,\n        \"max\": 5642,\n        \"num_unique_values\": 810,\n        \"samples\": [\n          1474,\n          1804,\n          3194\n        ],\n        \"semantic_type\": \"\",\n        \"description\": \"\"\n      }\n    },\n    {\n      \"column\": \"GarageArea\",\n      \"properties\": {\n        \"dtype\": \"number\",\n        \"std\": 213,\n        \"min\": 0,\n        \"max\": 1418,\n        \"num_unique_values\": 419,\n        \"samples\": [\n          495,\n          458,\n          936\n        ],\n        \"semantic_type\": \"\",\n        \"description\": \"\"\n      }\n    },\n    {\n      \"column\": \"PoolArea\",\n      \"properties\": {\n        \"dtype\": \"number\",\n        \"std\": 39,\n        \"min\": 0,\n        \"max\": 738,\n        \"num_unique_values\": 7,\n        \"samples\": [\n          0,\n          648,\n          480\n        ],\n        \"semantic_type\": \"\",\n        \"description\": \"\"\n      }\n    },\n    {\n      \"column\": \"OverallCond\",\n      \"properties\": {\n        \"dtype\": \"number\",\n        \"std\": 1,\n        \"min\": 1,\n        \"max\": 9,\n        \"num_unique_values\": 9,\n        \"samples\": [\n          9,\n          6,\n          1\n        ],\n        \"semantic_type\": \"\",\n        \"description\": \"\"\n      }\n    },\n    {\n      \"column\": \"Utilities\",\n      \"properties\": {\n        \"dtype\": \"category\",\n        \"num_unique_values\": 2,\n        \"samples\": [\n          \"NoSeWa\",\n          \"AllPub\"\n        ],\n        \"semantic_type\": \"\",\n        \"description\": \"\"\n      }\n    },\n    {\n      \"column\": \"SalePrice\",\n      \"properties\": {\n        \"dtype\": \"number\",\n        \"std\": 77511,\n        \"min\": 34900,\n        \"max\": 755000,\n        \"num_unique_values\": 626,\n        \"samples\": [\n          611657,\n          157000\n        ],\n        \"semantic_type\": \"\",\n        \"description\": \"\"\n      }\n    }\n  ]\n}"
            }
          },
          "metadata": {},
          "execution_count": 6
        }
      ],
      "source": [
        "df.head()"
      ]
    },
    {
      "cell_type": "code",
      "source": [],
      "metadata": {
        "id": "iyZRFFkgTbrn"
      },
      "execution_count": null,
      "outputs": []
    },
    {
      "cell_type": "markdown",
      "metadata": {
        "id": "LNnfJbohAaTM"
      },
      "source": [
        "What are all the features present? What is the range for each of the features along with their mean?"
      ]
    },
    {
      "cell_type": "code",
      "execution_count": null,
      "metadata": {
        "id": "i0e6ZqO6AaTM",
        "colab": {
          "base_uri": "https://localhost:8080/"
        },
        "outputId": "8ac0ce79-c124-4f44-f6fb-4eccb6a8fc06"
      },
      "outputs": [
        {
          "output_type": "stream",
          "name": "stdout",
          "text": [
            "All features present:\n",
            " ['LotArea', 'TotalBsmtSF', 'GrLivArea', 'GarageArea', 'PoolArea', 'OverallCond', 'Utilities', 'SalePrice']\n",
            "\n",
            "Feature statistics:\n",
            "Feature 'LotArea':\n",
            "  Range: 213945\n",
            "  Mean: 10622.104261796043\n",
            "\n",
            "Feature 'TotalBsmtSF':\n",
            "  Range: 6110\n",
            "  Mean: 1058.3112633181127\n",
            "\n",
            "Feature 'GrLivArea':\n",
            "  Range: 5308\n",
            "  Mean: 1512.9003044140031\n",
            "\n",
            "Feature 'GarageArea':\n",
            "  Range: 1418\n",
            "  Mean: 473.48021308980213\n",
            "\n",
            "Feature 'PoolArea':\n",
            "  Range: 738\n",
            "  Mean: 2.6430745814307457\n",
            "\n",
            "Feature 'OverallCond':\n",
            "  Range: 8\n",
            "  Mean: 5.582191780821918\n",
            "\n",
            "Feature 'SalePrice':\n",
            "  Range: 720100\n",
            "  Mean: 180795.50456621006\n",
            "\n"
          ]
        }
      ],
      "source": [
        "import pandas as pd\n",
        "\n",
        "df = pd.read_csv('https://raw.githubusercontent.com/cronan03/DevSoc_AI-ML/main/train_processed_splitted.csv')\n",
        "\n",
        "# Display all features present\n",
        "print(\"All features present:\\n\", df.columns.tolist())\n",
        "\n",
        "# Select only numerical columns\n",
        "numerical_df = df.select_dtypes(include=['number'])\n",
        "\n",
        "# Compute the range (max - min) for each numerical feature\n",
        "feature_ranges = numerical_df.max() - numerical_df.min()\n",
        "\n",
        "# Compute the mean for each numerical feature\n",
        "feature_means = numerical_df.mean()\n",
        "\n",
        "# Print the range and mean for each numerical feature\n",
        "print(\"\\nFeature statistics:\")\n",
        "for feature in numerical_df.columns:\n",
        "    print(f\"Feature '{feature}':\")\n",
        "    print(f\"  Range: {feature_ranges[feature]}\")\n",
        "    print(f\"  Mean: {feature_means[feature]}\")\n",
        "    print()"
      ]
    },
    {
      "cell_type": "markdown",
      "metadata": {
        "id": "8Hjdd5Y5AaTM"
      },
      "source": [
        "### **Feature Scaling and One-Hot Encoding**"
      ]
    },
    {
      "cell_type": "markdown",
      "metadata": {
        "id": "J3ls8u3hAaTM"
      },
      "source": [
        "You must have noticed that some features `(such as Utilities)` are not continuous values.\n",
        "  \n",
        "These features contain values indicating different categories and must somehow be converted to numbers so that the computer can understand it. `(Computers only understand numbers and not strings)`\n",
        "  \n",
        "These features are called categorical features. We can represent these features as a `One-Hot Representation`\n",
        "  \n",
        "  \n",
        "You must have also noticed that all the other features, each are in a different scale. This can be detremental to the performance of our linear regression model and so we normalize them so that all of them are in the range $[0,1]$"
      ]
    },
    {
      "cell_type": "markdown",
      "metadata": {
        "id": "yeoczqQIAaTM"
      },
      "source": [
        "> NOTE: When you are doing feature scaling, store the min/max which you will use to normalize somewhere. This is then to be used at testing time. Try to think why are doing this?"
      ]
    },
    {
      "cell_type": "code",
      "execution_count": null,
      "metadata": {
        "id": "W17LZP2qAaTN",
        "colab": {
          "base_uri": "https://localhost:8080/"
        },
        "outputId": "d9cf9589-bd78-4e92-c22f-f291dbc127d6"
      },
      "outputs": [
        {
          "output_type": "stream",
          "name": "stdout",
          "text": [
            "Index(['LotArea', 'TotalBsmtSF', 'GrLivArea', 'GarageArea', 'PoolArea',\n",
            "       'OverallCond', 'Utilities', 'SalePrice'],\n",
            "      dtype='object')\n",
            "Warning: The following features are not in the Dataframe: ['MSZoning', 'Street', 'Condition1', 'Condition2', 'BldgType', 'HouseStyle']\n",
            "\n",
            "Feature statistics (including one-hot encoded features):\n",
            "Feature 'LotArea':\n",
            "  Range: 213945\n",
            "  Mean: 10622.104261796043\n",
            "\n",
            "Feature 'TotalBsmtSF':\n",
            "  Range: 6110\n",
            "  Mean: 1058.3112633181127\n",
            "\n",
            "Feature 'GrLivArea':\n",
            "  Range: 5308\n",
            "  Mean: 1512.9003044140031\n",
            "\n",
            "Feature 'GarageArea':\n",
            "  Range: 1418\n",
            "  Mean: 473.48021308980213\n",
            "\n",
            "Feature 'PoolArea':\n",
            "  Range: 738\n",
            "  Mean: 2.6430745814307457\n",
            "\n",
            "Feature 'OverallCond':\n",
            "  Range: 8\n",
            "  Mean: 5.582191780821918\n",
            "\n",
            "Feature 'SalePrice':\n",
            "  Range: 720100\n",
            "  Mean: 180795.50456621006\n",
            "\n"
          ]
        }
      ],
      "source": [
        "# Do the one-hot encoding here\n",
        "import pandas as pd\n",
        "\n",
        "df = pd.read_csv('https://raw.githubusercontent.com/cronan03/DevSoc_AI-ML/main/train_processed_splitted.csv')\n",
        "\n",
        "# Identify categorical features\n",
        "# Carefully check for typos and cappitalization against the actual Dataframe\n",
        "categorical_features = ['MSZoning', 'Street', 'Utilities', 'Condition1', 'Condition2', 'BldgType', 'HouseStyle']\n",
        "\n",
        "# Print the columns of your dataframe to verify the names and compare to your list\n",
        "print(df.columns)\n",
        "\n",
        "# Check if all categorical features are present in the Dataframe\n",
        "missing_features = [feature for feature in categorical_features if feature not in df.columns]\n",
        "if missing_features:\n",
        "    print(\"Warning: The following features are not in the Dataframe:\", missing_features) # Correct indentation here\n",
        "\n",
        "# Apply one-hot encoding to categorical features that are present\n",
        "present_categorical_features = [feature for feature in categorical_features if feature in df.columns]\n",
        "df = pd.get_dummies(df, columns=present_categorical_features)\n",
        "\n",
        "# Select numerical columns (including the newly created one-hot columns)\n",
        "numerical_df = df.select_dtypes(include=['number'])\n",
        "\n",
        "# Compute the range (max - min) for each numerical feature\n",
        "feature_ranges = numerical_df.max() - numerical_df.min()\n",
        "\n",
        "# Compute the mean for each numerical feature\n",
        "feature_means = numerical_df.mean()\n",
        "\n",
        "# Print the range and mean for each numerical feature\n",
        "print(\"\\nFeature statistics (including one-hot encoded features):\")\n",
        "for feature in numerical_df.columns:\n",
        "    print(f\"Feature '{feature}':\")\n",
        "    print(f\"  Range: {feature_ranges[feature]}\")\n",
        "    print(f\"  Mean: {feature_means[feature]}\")\n",
        "    print()"
      ]
    },
    {
      "cell_type": "code",
      "execution_count": null,
      "metadata": {
        "id": "gG7rV9TCAaTN"
      },
      "outputs": [],
      "source": [
        "# Do the feature scaling here\n"
      ]
    },
    {
      "cell_type": "markdown",
      "metadata": {
        "id": "xcZxb-V4AaTN"
      },
      "source": [
        "### **Conversion to NumPy**"
      ]
    },
    {
      "cell_type": "markdown",
      "metadata": {
        "id": "6-_3l_1iAaTN"
      },
      "source": [
        "Ok so now that we have all preprocessed all the data, we need to convert it to numpy for our linear regression model\n",
        "  \n",
        "Assume that our dataset has a total of $N$ datapoints. Each datapoint having a total of $D$ features (after one-hot encoding), we want our numpy array to be of shape $(N, D)$"
      ]
    },
    {
      "cell_type": "markdown",
      "metadata": {
        "id": "QJmGKlEgAaTN"
      },
      "source": [
        "In our task, we have to predict the `SalePrice`. We will need 2 numpy arrays $(X, Y)$. These represent the features and targets respectively"
      ]
    },
    {
      "cell_type": "code",
      "execution_count": null,
      "metadata": {
        "id": "XJk8M5QmAaTN",
        "colab": {
          "base_uri": "https://localhost:8080/"
        },
        "outputId": "9a83210c-1513-46bc-9212-4a9e626ea075"
      },
      "outputs": [
        {
          "output_type": "stream",
          "name": "stdout",
          "text": [
            "Shape of feature matrix X: (3, 2)\n",
            "Shape of target vector Y: (3,)\n"
          ]
        }
      ],
      "source": [
        "# Convert to numpy array\n",
        "import pandas as pd\n",
        "import numpy as np\n",
        "\n",
        "# ... (Your existing code for one-hot encoding)\n",
        "\n",
        "\n",
        "# Sample DataFrame (replace this with how you actually create your DataFrame)\n",
        "numerical_df = pd.DataFrame({\n",
        "    'feature1': [1, 2, 3],\n",
        "    'feature2': [4, 5, 6],\n",
        "    'SalePrice': [7, 8, 9]\n",
        "})\n",
        "\n",
        "\n",
        "# Extract the features (X) and target variable (Y)\n",
        "X = numerical_df.drop('SalePrice', axis=1).values  # Assuming 'SalePrice' is your target\n",
        "Y = numerical_df['SalePrice'].values\n",
        "\n",
        "print(\"Shape of feature matrix X:\", X.shape)  # Verify the shape (N, D)\n",
        "print(\"Shape of target vector Y:\", Y.shape)  # Verify the shape (N,)"
      ]
    },
    {
      "cell_type": "markdown",
      "metadata": {
        "id": "J7YT1X-3AaTN"
      },
      "source": [
        "## Linear Regression formulation\n",
        "  \n",
        "We now have our data in the form we need. Let's try to create a linear model to get our initial (Really bad) prediction\n"
      ]
    },
    {
      "cell_type": "markdown",
      "metadata": {
        "id": "upgXFnXgAaTN"
      },
      "source": [
        "Let's say a single datapoint in our dataset consists of 3 features $(x_1, x_2, x_3)$, we can pose it as a linear equation as follows:\n",
        "$$ y = w_1x_1 + w_2x_2 + w_3x_3 + b $$\n",
        "Here we have to learn 4 parameters $(w_1, w_2, w_3, b)$\n",
        "  \n",
        "  \n",
        "Now how do we extend this to multiple datapoints?  \n",
        "  \n",
        "  \n",
        "Try to answer the following:\n",
        "- How many parameters will we have to learn in the cae of our dataset? (Don't forget the bias term)\n",
        "- Form a linear equation for our dataset. We need just a single matrix equation which correctly represents all the datapoints in our dataset\n",
        "- Implement the linear equation as an equation using NumPy arrays (Start by randomly initializing the weights from a standard normal distribution)"
      ]
    },
    {
      "cell_type": "code",
      "execution_count": null,
      "metadata": {
        "id": "IvB5DGT7AaTO",
        "colab": {
          "base_uri": "https://localhost:8080/"
        },
        "outputId": "1efb2e12-6057-42e6-cdf1-d1b63d3eb994"
      },
      "outputs": [
        {
          "output_type": "stream",
          "name": "stdout",
          "text": [
            "Shape of X: (100, 5)\n",
            "Shape of W: (5, 1)\n",
            "Shape of b: (1,)\n",
            "Shape of Y: (100, 1)\n",
            "First few rows of X:\n",
            " [[0.86231855 0.0486903  0.25364252 0.44613551 0.10462789]\n",
            " [0.34847599 0.74009753 0.68051448 0.62238443 0.7105284 ]\n",
            " [0.20492369 0.34169811 0.67624248 0.87923476 0.54367805]\n",
            " [0.28269965 0.03023526 0.71033683 0.0078841  0.37267907]\n",
            " [0.53053721 0.92211146 0.08949455 0.40594232 0.0243132 ]]\n",
            "Weights W:\n",
            " [[-0.49901664]\n",
            " [ 0.02135122]\n",
            " [-0.91911344]\n",
            " [ 0.19275385]\n",
            " [-0.36505522]]\n",
            "Bias b:\n",
            " [-1.79132755]\n",
            "First few rows of Y:\n",
            " [[-2.40592613]\n",
            " [-2.71430599]\n",
            " [-2.53683239]\n",
            " [-2.71916269]\n",
            " [-2.04927059]]\n"
          ]
        }
      ],
      "source": [
        "import numpy as np\n",
        "\n",
        "# Set random seed for reproducibility\n",
        "np.random.seed(0)\n",
        "\n",
        "# Define the dimensions\n",
        "n_samples = 100  # number of data points\n",
        "n_features = 5   # number of features\n",
        "n_outputs = 1    # number of outputs\n",
        "\n",
        "# Initialize the input matrix X (n_samples x n_features)\n",
        "X = np.random.rand(n_samples, n_features)\n",
        "\n",
        "# Initialize the weights matrix W (n_features x n_outputs)\n",
        "W = np.random.randn(n_features, n_outputs)  # standard normal distribution\n",
        "\n",
        "# Initialize the bias vector b (n_outputs)\n",
        "b = np.random.randn(n_outputs)  # standard normal distribution\n",
        "\n",
        "# Compute the output matrix Y\n",
        "Y = np.dot(X, W) + b\n",
        "\n",
        "# Print the shapes to verify\n",
        "print(\"Shape of X:\", X.shape)\n",
        "print(\"Shape of W:\", W.shape)\n",
        "print(\"Shape of b:\", b.shape)\n",
        "print(\"Shape of Y:\", Y.shape)\n",
        "\n",
        "# Print the first few values to check the results\n",
        "print(\"First few rows of X:\\n\", X[:5])\n",
        "print(\"Weights W:\\n\", W)\n",
        "print(\"Bias b:\\n\", b)\n",
        "print(\"First few rows of Y:\\n\", Y[:5])\n"
      ]
    },
    {
      "cell_type": "markdown",
      "metadata": {
        "id": "_ldc0Ap_AaTO"
      },
      "source": [
        "How well does our model perform? Try comparing our predictions with the actual values"
      ]
    },
    {
      "cell_type": "code",
      "execution_count": null,
      "metadata": {
        "id": "TnnX7hG5AaTO"
      },
      "outputs": [],
      "source": []
    },
    {
      "cell_type": "markdown",
      "metadata": {
        "id": "MryM_jtQAaTO"
      },
      "source": [
        "### **Learning weights using gradient descent**"
      ]
    },
    {
      "cell_type": "markdown",
      "metadata": {
        "id": "kq9rq3T9AaTO"
      },
      "source": [
        "So these results are really horrible. We need to somehow update our weights so that it correclty represents our data. How do we do that?"
      ]
    },
    {
      "cell_type": "markdown",
      "metadata": {
        "id": "5EKd0mhkAaTO"
      },
      "source": [
        "We must do the following:\n",
        "- We need some numerical indication for our performance, for this we define a Loss Function ( $\\mathscr{L}$ )\n",
        "- Find the gradients of the `Loss` with respect to the `Weights`\n",
        "- Update the weights in accordance to the gradients: $W = W - \\alpha\\nabla_W \\mathscr{L}$"
      ]
    },
    {
      "cell_type": "markdown",
      "metadata": {
        "id": "uUfs8wh3AaTO"
      },
      "source": [
        "Lets define the loss function:\n",
        "- We will use the MSE loss since it is a regression task. (Specify the assumptions we make while doing so as taught in the class).\n",
        "- Implement this loss as a function. (Use numpy as much as possible)"
      ]
    },
    {
      "cell_type": "code",
      "execution_count": null,
      "metadata": {
        "id": "b4G28aKRAaTO"
      },
      "outputs": [],
      "source": [
        "def mse_loss_fn(y_true, y_pred):\n",
        "    # TODO: Implement the MSE loss function here\n",
        "    pass"
      ]
    },
    {
      "cell_type": "markdown",
      "metadata": {
        "id": "eUnb9WpfAaTP"
      },
      "source": [
        "Calculate the gradients of the loss with respect to the weights (and biases). First write the equations down on a piece of paper, then proceed to implement it"
      ]
    },
    {
      "cell_type": "code",
      "execution_count": null,
      "metadata": {
        "id": "BDYpZjjMAaTP"
      },
      "outputs": [],
      "source": [
        "def get_gradients(y_true, y_pred, W, b, X):\n",
        "    \"\"\"\n",
        "    Calculates the gradients for the MSE loss function with respect to the weights (and bias)\n",
        "\n",
        "    Args:\n",
        "        y_true: The true values of the target variable (SalePrice in our case)\n",
        "        y_pred: The predicted values of the target variable using our model (W*X + b)\n",
        "\n",
        "        W: The weights of the model\n",
        "        b: The bias of the model\n",
        "        X: The input features\n",
        "\n",
        "    Returns:\n",
        "        dW: The gradients of the loss function with respect to the weights\n",
        "        db: The gradients of the loss function with respect to the bias\n",
        "    \"\"\"\n",
        "\n",
        "    # TODO: Implement the gradient calculations here\n",
        "    pass"
      ]
    },
    {
      "cell_type": "markdown",
      "metadata": {
        "id": "hfbjlNBXAaTP"
      },
      "source": [
        "Update the weights using the gradients"
      ]
    },
    {
      "cell_type": "code",
      "source": [
        "import numpy as np\n",
        "\n",
        "def calculate_gradients(X, y_true, y_pred):\n",
        "    \"\"\"\n",
        "    Calculates the gradients of the loss with respect to weights and bias.\n",
        "\n",
        "    Args:\n",
        "        X: Input data (shape: [number of samples, number of features])\n",
        "        y_true: True target values (shape: [number of samples])\n",
        "        y_pred: Predicted target values (shape: [number of samples])\n",
        "\n",
        "    Returns:\n",
        "        A tuple containing (gradient_w, gradient_b)\n",
        "    \"\"\"\n",
        "\n",
        "    n_samples = X.shape[0]  # Number of data points\n",
        "\n",
        "    # Calculate gradients\n",
        "    gradient_w = (1/n_samples) * np.dot(X.T, (y_pred - y_true))\n",
        "    gradient_b = (1/n_samples) * np.sum(y_pred - y_true)\n",
        "\n",
        "    return\n"
      ],
      "metadata": {
        "id": "UF4oDDP5k7We"
      },
      "execution_count": null,
      "outputs": []
    },
    {
      "cell_type": "code",
      "execution_count": null,
      "metadata": {
        "id": "9Xstl9DpAaTP"
      },
      "outputs": [],
      "source": [
        "def update(weights, bias, gradients_weights, gradients_bias, lr):\n",
        "    \"\"\"\n",
        "    Updates the weights (and bias) using the gradients and the learning rate\n",
        "\n",
        "    Args:\n",
        "        weights: The current weights of the model\n",
        "        bias: The current bias of the model\n",
        "\n",
        "        gradients_weights: The gradients of the loss function with respect to the weights\n",
        "        gradients_bias: The gradients of the loss function with respect to the bias\n",
        "\n",
        "        lr: The learning rate\n",
        "\n",
        "    Returns:\n",
        "        weights_new: The updated weights of the model\n",
        "\n",
        "    \"\"\"\n",
        "\n",
        "    # TODO Implement the update step here\n",
        "\n",
        "    pass"
      ]
    },
    {
      "cell_type": "markdown",
      "metadata": {
        "id": "wZqXDTjFAaTP"
      },
      "source": [
        "Put all these together to find the loss value, its gradient and finally updating the weights in a loop. Feel free to play around with different learning rates and epochs\n",
        "  \n",
        "> NOTE: The code in comments are just meant to be used as a guide. You will have to do changes based on your code"
      ]
    },
    {
      "cell_type": "code",
      "execution_count": null,
      "metadata": {
        "id": "a3BVX4nlAaTP"
      },
      "outputs": [],
      "source": [
        "NUM_EPOCHS = 10\n",
        "LEARNING_RATE = 2e-2\n",
        "\n",
        "losses = []\n",
        "\n",
        "for epoch in range(NUM_EPOCHS):\n",
        "    # y_pred =\n",
        "    # loss = loss_fn(y_true, y_pred)\n",
        "    # losses.append(loss)\n",
        "    # gradients_weights, gradients_bias = get_gradients(y_true, y_pred, W, b, X)\n",
        "    # update(W, b, gradients_weights, gradients_bias, LEARNING_RATE)\n"
      ]
    },
    {
      "cell_type": "markdown",
      "metadata": {
        "id": "uYgND-OLAaTQ"
      },
      "source": [
        "Now use matplotlib to plot the loss graph"
      ]
    },
    {
      "cell_type": "code",
      "execution_count": null,
      "metadata": {
        "id": "RxFqG5GSAaTQ"
      },
      "outputs": [],
      "source": []
    },
    {
      "cell_type": "markdown",
      "metadata": {
        "id": "kaZdAzbvAaTQ"
      },
      "source": [
        "### **Testing with test data**"
      ]
    },
    {
      "cell_type": "markdown",
      "metadata": {
        "id": "vuSbgtM6AaTQ"
      },
      "source": [
        "Load and apply all the preprocessing steps used in the training data for the testing data as well. Remember to use the **SAME** min/max values which you used for the training set and not recalculate them from the test set. Also mention why we are doing this.\n",
        "\n",
        "To load test data from GitHub, use the code below.\n"
      ]
    },
    {
      "cell_type": "code",
      "execution_count": null,
      "metadata": {
        "id": "3iuQ4ulhAaTQ"
      },
      "outputs": [],
      "source": [
        "#testdf = pd.read_csv('https://raw.githubusercontent.com/cronan03/DevSoc_AI-ML/main/test_processed_splitted.csv')"
      ]
    },
    {
      "cell_type": "code",
      "source": [
        "import pandas as pd\n",
        "\n",
        "# Your data snippet (let's put it into a DataFrame)\n",
        "data = {'LotArea': [15623, 11952],\n",
        "        'TotalBsmtSF': [2396, 808],\n",
        "        'GrLivArea': [4476, 1969],\n",
        "        'GarageArea': [813, 534],\n",
        "        'PoolArea': [555, 0],\n",
        "'OverallCond': [5, 6],\n",
        "        'Utilities': ['AllPub', 'AllPub'],\n",
        "        'SalePrice': [745000, 190000]}\n",
        "\n",
        "train_data = pd.DataFrame(data)\n",
        "\n",
        "# Calculate minimum and maximum values (excluding non-numerical columns)\n",
        "numerical_columns = ['LotArea', 'TotalBsmtSF', 'GrLivArea', 'GarageArea', 'PoolArea', 'OverallCond', 'SalePrice']\n",
        "train_min_values = train_data[numerical_columns].min()\n",
        "train_max_values = train_data[numerical_columns].max()\n",
        "\n",
        "print(\"Minimum Values:\\n\", train_min_values)\n",
        "print(\"\\nMaximum Values:\\n\", train_max_values)"
      ],
      "metadata": {
        "id": "57DMce43h8i-",
        "outputId": "1e469410-7748-4d04-e4fb-1bb17b067fe4",
        "colab": {
          "base_uri": "https://localhost:8080/"
        }
      },
      "execution_count": null,
      "outputs": [
        {
          "output_type": "stream",
          "name": "stdout",
          "text": [
            "Minimum Values:\n",
            " LotArea         11952\n",
            "TotalBsmtSF       808\n",
            "GrLivArea        1969\n",
            "GarageArea        534\n",
            "PoolArea            0\n",
            "OverallCond         5\n",
            "SalePrice      190000\n",
            "dtype: int64\n",
            "\n",
            "Maximum Values:\n",
            " LotArea         15623\n",
            "TotalBsmtSF      2396\n",
            "GrLivArea        4476\n",
            "GarageArea        813\n",
            "PoolArea          555\n",
            "OverallCond         6\n",
            "SalePrice      745000\n",
            "dtype: int64\n"
          ]
        }
      ]
    },
    {
      "cell_type": "markdown",
      "metadata": {
        "id": "KxqOWigRAaTQ"
      },
      "source": [
        "Using the weights learnt above, predict the values in the test dataset. Also answer the following questions:\n",
        "- Are the predictions good?\n",
        "- What is the MSE loss for the testset\n",
        "- Is the MSE loss for testing greater or lower than training\n",
        "- Why is this the case"
      ]
    }
  ],
  "metadata": {
    "kernelspec": {
      "display_name": "Python 3",
      "language": "python",
      "name": "python3"
    },
    "language_info": {
      "codemirror_mode": {
        "name": "ipython",
        "version": 3
      },
      "file_extension": ".py",
      "mimetype": "text/x-python",
      "name": "python",
      "nbconvert_exporter": "python",
      "pygments_lexer": "ipython3",
      "version": "3.10.12"
    },
    "orig_nbformat": 4,
    "colab": {
      "provenance": []
    }
  },
  "nbformat": 4,
  "nbformat_minor": 0
}